{
 "cells": [
  {
   "cell_type": "code",
   "execution_count": 61,
   "id": "7a5e487a",
   "metadata": {},
   "outputs": [
    {
     "name": "stdout",
     "output_type": "stream",
     "text": [
      "Requirement already satisfied: langchain in d:\\my laptop\\app\\anaconda\\lib\\site-packages (0.1.11)\n",
      "Requirement already satisfied: tenacity<9.0.0,>=8.1.0 in d:\\my laptop\\app\\anaconda\\lib\\site-packages (from langchain) (8.2.3)\n",
      "Requirement already satisfied: langsmith<0.2.0,>=0.1.17 in d:\\my laptop\\app\\anaconda\\lib\\site-packages (from langchain) (0.1.21)\n",
      "Requirement already satisfied: async-timeout<5.0.0,>=4.0.0 in d:\\my laptop\\app\\anaconda\\lib\\site-packages (from langchain) (4.0.3)\n",
      "Requirement already satisfied: langchain-text-splitters<0.1,>=0.0.1 in d:\\my laptop\\app\\anaconda\\lib\\site-packages (from langchain) (0.0.1)\n",
      "Requirement already satisfied: jsonpatch<2.0,>=1.33 in d:\\my laptop\\app\\anaconda\\lib\\site-packages (from langchain) (1.33)\n",
      "Requirement already satisfied: aiohttp<4.0.0,>=3.8.3 in d:\\my laptop\\app\\anaconda\\lib\\site-packages (from langchain) (3.9.3)\n",
      "Requirement already satisfied: pydantic<3,>=1 in d:\\my laptop\\app\\anaconda\\lib\\site-packages (from langchain) (2.6.3)\n",
      "Requirement already satisfied: dataclasses-json<0.7,>=0.5.7 in d:\\my laptop\\app\\anaconda\\lib\\site-packages (from langchain) (0.5.14)\n",
      "Requirement already satisfied: SQLAlchemy<3,>=1.4 in d:\\my laptop\\app\\anaconda\\lib\\site-packages (from langchain) (1.4.7)\n",
      "Requirement already satisfied: numpy<2,>=1 in d:\\my laptop\\app\\anaconda\\lib\\site-packages (from langchain) (1.20.1)\n",
      "Requirement already satisfied: PyYAML>=5.3 in d:\\my laptop\\app\\anaconda\\lib\\site-packages (from langchain) (5.4.1)\n",
      "Requirement already satisfied: requests<3,>=2 in d:\\my laptop\\app\\anaconda\\lib\\site-packages (from langchain) (2.31.0)\n",
      "Requirement already satisfied: langchain-core<0.2,>=0.1.29 in d:\\my laptop\\app\\anaconda\\lib\\site-packages (from langchain) (0.1.29)\n",
      "Requirement already satisfied: langchain-community<0.1,>=0.0.25 in d:\\my laptop\\app\\anaconda\\lib\\site-packages (from langchain) (0.0.25)\n",
      "Requirement already satisfied: frozenlist>=1.1.1 in d:\\my laptop\\app\\anaconda\\lib\\site-packages (from aiohttp<4.0.0,>=3.8.3->langchain) (1.4.1)\n",
      "Requirement already satisfied: attrs>=17.3.0 in d:\\my laptop\\app\\anaconda\\lib\\site-packages (from aiohttp<4.0.0,>=3.8.3->langchain) (20.3.0)\n",
      "Requirement already satisfied: aiosignal>=1.1.2 in d:\\my laptop\\app\\anaconda\\lib\\site-packages (from aiohttp<4.0.0,>=3.8.3->langchain) (1.3.1)\n",
      "Requirement already satisfied: multidict<7.0,>=4.5 in d:\\my laptop\\app\\anaconda\\lib\\site-packages (from aiohttp<4.0.0,>=3.8.3->langchain) (6.0.5)\n",
      "Requirement already satisfied: yarl<2.0,>=1.0 in d:\\my laptop\\app\\anaconda\\lib\\site-packages (from aiohttp<4.0.0,>=3.8.3->langchain) (1.9.4)\n",
      "Requirement already satisfied: marshmallow<4.0.0,>=3.18.0 in d:\\my laptop\\app\\anaconda\\lib\\site-packages (from dataclasses-json<0.7,>=0.5.7->langchain) (3.21.1)\n",
      "Requirement already satisfied: typing-inspect<1,>=0.4.0 in d:\\my laptop\\app\\anaconda\\lib\\site-packages (from dataclasses-json<0.7,>=0.5.7->langchain) (0.9.0)\n",
      "Requirement already satisfied: jsonpointer>=1.9 in d:\\my laptop\\app\\anaconda\\lib\\site-packages (from jsonpatch<2.0,>=1.33->langchain) (2.4)\n",
      "Requirement already satisfied: packaging<24.0,>=23.2 in d:\\my laptop\\app\\anaconda\\lib\\site-packages (from langchain-core<0.2,>=0.1.29->langchain) (23.2)\n",
      "Requirement already satisfied: anyio<5,>=3 in d:\\my laptop\\app\\anaconda\\lib\\site-packages (from langchain-core<0.2,>=0.1.29->langchain) (3.7.1)\n",
      "Requirement already satisfied: exceptiongroup in d:\\my laptop\\app\\anaconda\\lib\\site-packages (from anyio<5,>=3->langchain-core<0.2,>=0.1.29->langchain) (1.2.0)\n",
      "Requirement already satisfied: sniffio>=1.1 in d:\\my laptop\\app\\anaconda\\lib\\site-packages (from anyio<5,>=3->langchain-core<0.2,>=0.1.29->langchain) (1.2.0)\n",
      "Requirement already satisfied: idna>=2.8 in d:\\my laptop\\app\\anaconda\\lib\\site-packages (from anyio<5,>=3->langchain-core<0.2,>=0.1.29->langchain) (2.10)\n",
      "Requirement already satisfied: orjson<4.0.0,>=3.9.14 in d:\\my laptop\\app\\anaconda\\lib\\site-packages (from langsmith<0.2.0,>=0.1.17->langchain) (3.9.15)\n",
      "Requirement already satisfied: typing-extensions>=4.6.1 in d:\\my laptop\\app\\anaconda\\lib\\site-packages (from pydantic<3,>=1->langchain) (4.10.0)\n",
      "Requirement already satisfied: pydantic-core==2.16.3 in d:\\my laptop\\app\\anaconda\\lib\\site-packages (from pydantic<3,>=1->langchain) (2.16.3)\n",
      "Requirement already satisfied: annotated-types>=0.4.0 in d:\\my laptop\\app\\anaconda\\lib\\site-packages (from pydantic<3,>=1->langchain) (0.6.0)\n",
      "Requirement already satisfied: certifi>=2017.4.17 in d:\\my laptop\\app\\anaconda\\lib\\site-packages (from requests<3,>=2->langchain) (2020.12.5)\n",
      "Requirement already satisfied: urllib3<3,>=1.21.1 in d:\\my laptop\\app\\anaconda\\lib\\site-packages (from requests<3,>=2->langchain) (1.26.4)\n",
      "Requirement already satisfied: charset-normalizer<4,>=2 in d:\\my laptop\\app\\anaconda\\lib\\site-packages (from requests<3,>=2->langchain) (3.3.2)\n",
      "Requirement already satisfied: greenlet!=0.4.17 in d:\\my laptop\\app\\anaconda\\lib\\site-packages (from SQLAlchemy<3,>=1.4->langchain) (1.0.0)\n",
      "Requirement already satisfied: mypy-extensions>=0.3.0 in d:\\my laptop\\app\\anaconda\\lib\\site-packages (from typing-inspect<1,>=0.4.0->dataclasses-json<0.7,>=0.5.7->langchain) (0.4.3)\n",
      "Requirement already satisfied: langchain_community in d:\\my laptop\\app\\anaconda\\lib\\site-packages (0.0.25)\n",
      "Requirement already satisfied: langchain-core<0.2.0,>=0.1.28 in d:\\my laptop\\app\\anaconda\\lib\\site-packages (from langchain_community) (0.1.29)\n",
      "Requirement already satisfied: tenacity<9.0.0,>=8.1.0 in d:\\my laptop\\app\\anaconda\\lib\\site-packages (from langchain_community) (8.2.3)\n",
      "Requirement already satisfied: dataclasses-json<0.7,>=0.5.7 in d:\\my laptop\\app\\anaconda\\lib\\site-packages (from langchain_community) (0.5.14)\n",
      "Requirement already satisfied: langsmith<0.2.0,>=0.1.0 in d:\\my laptop\\app\\anaconda\\lib\\site-packages (from langchain_community) (0.1.21)\n",
      "Requirement already satisfied: PyYAML>=5.3 in d:\\my laptop\\app\\anaconda\\lib\\site-packages (from langchain_community) (5.4.1)\n",
      "Requirement already satisfied: numpy<2,>=1 in d:\\my laptop\\app\\anaconda\\lib\\site-packages (from langchain_community) (1.20.1)\n",
      "Requirement already satisfied: requests<3,>=2 in d:\\my laptop\\app\\anaconda\\lib\\site-packages (from langchain_community) (2.31.0)\n",
      "Requirement already satisfied: SQLAlchemy<3,>=1.4 in d:\\my laptop\\app\\anaconda\\lib\\site-packages (from langchain_community) (1.4.7)\n",
      "Requirement already satisfied: aiohttp<4.0.0,>=3.8.3 in d:\\my laptop\\app\\anaconda\\lib\\site-packages (from langchain_community) (3.9.3)\n",
      "Requirement already satisfied: async-timeout<5.0,>=4.0 in d:\\my laptop\\app\\anaconda\\lib\\site-packages (from aiohttp<4.0.0,>=3.8.3->langchain_community) (4.0.3)\n",
      "Requirement already satisfied: yarl<2.0,>=1.0 in d:\\my laptop\\app\\anaconda\\lib\\site-packages (from aiohttp<4.0.0,>=3.8.3->langchain_community) (1.9.4)\n",
      "Requirement already satisfied: frozenlist>=1.1.1 in d:\\my laptop\\app\\anaconda\\lib\\site-packages (from aiohttp<4.0.0,>=3.8.3->langchain_community) (1.4.1)\n",
      "Requirement already satisfied: multidict<7.0,>=4.5 in d:\\my laptop\\app\\anaconda\\lib\\site-packages (from aiohttp<4.0.0,>=3.8.3->langchain_community) (6.0.5)\n",
      "Requirement already satisfied: attrs>=17.3.0 in d:\\my laptop\\app\\anaconda\\lib\\site-packages (from aiohttp<4.0.0,>=3.8.3->langchain_community) (20.3.0)\n",
      "Requirement already satisfied: aiosignal>=1.1.2 in d:\\my laptop\\app\\anaconda\\lib\\site-packages (from aiohttp<4.0.0,>=3.8.3->langchain_community) (1.3.1)\n",
      "Requirement already satisfied: marshmallow<4.0.0,>=3.18.0 in d:\\my laptop\\app\\anaconda\\lib\\site-packages (from dataclasses-json<0.7,>=0.5.7->langchain_community) (3.21.1)\n",
      "Requirement already satisfied: typing-inspect<1,>=0.4.0 in d:\\my laptop\\app\\anaconda\\lib\\site-packages (from dataclasses-json<0.7,>=0.5.7->langchain_community) (0.9.0)\n",
      "Requirement already satisfied: packaging<24.0,>=23.2 in d:\\my laptop\\app\\anaconda\\lib\\site-packages (from langchain-core<0.2.0,>=0.1.28->langchain_community) (23.2)\n",
      "Requirement already satisfied: anyio<5,>=3 in d:\\my laptop\\app\\anaconda\\lib\\site-packages (from langchain-core<0.2.0,>=0.1.28->langchain_community) (3.7.1)\n",
      "Requirement already satisfied: jsonpatch<2.0,>=1.33 in d:\\my laptop\\app\\anaconda\\lib\\site-packages (from langchain-core<0.2.0,>=0.1.28->langchain_community) (1.33)\n",
      "Requirement already satisfied: pydantic<3,>=1 in d:\\my laptop\\app\\anaconda\\lib\\site-packages (from langchain-core<0.2.0,>=0.1.28->langchain_community) (2.6.3)\n",
      "Requirement already satisfied: exceptiongroup in d:\\my laptop\\app\\anaconda\\lib\\site-packages (from anyio<5,>=3->langchain-core<0.2.0,>=0.1.28->langchain_community) (1.2.0)\n",
      "Requirement already satisfied: sniffio>=1.1 in d:\\my laptop\\app\\anaconda\\lib\\site-packages (from anyio<5,>=3->langchain-core<0.2.0,>=0.1.28->langchain_community) (1.2.0)\n",
      "Requirement already satisfied: idna>=2.8 in d:\\my laptop\\app\\anaconda\\lib\\site-packages (from anyio<5,>=3->langchain-core<0.2.0,>=0.1.28->langchain_community) (2.10)\n",
      "Requirement already satisfied: jsonpointer>=1.9 in d:\\my laptop\\app\\anaconda\\lib\\site-packages (from jsonpatch<2.0,>=1.33->langchain-core<0.2.0,>=0.1.28->langchain_community) (2.4)\n",
      "Requirement already satisfied: orjson<4.0.0,>=3.9.14 in d:\\my laptop\\app\\anaconda\\lib\\site-packages (from langsmith<0.2.0,>=0.1.0->langchain_community) (3.9.15)\n",
      "Requirement already satisfied: typing-extensions>=4.6.1 in d:\\my laptop\\app\\anaconda\\lib\\site-packages (from pydantic<3,>=1->langchain-core<0.2.0,>=0.1.28->langchain_community) (4.10.0)\n",
      "Requirement already satisfied: pydantic-core==2.16.3 in d:\\my laptop\\app\\anaconda\\lib\\site-packages (from pydantic<3,>=1->langchain-core<0.2.0,>=0.1.28->langchain_community) (2.16.3)\n",
      "Requirement already satisfied: annotated-types>=0.4.0 in d:\\my laptop\\app\\anaconda\\lib\\site-packages (from pydantic<3,>=1->langchain-core<0.2.0,>=0.1.28->langchain_community) (0.6.0)\n",
      "Requirement already satisfied: urllib3<3,>=1.21.1 in d:\\my laptop\\app\\anaconda\\lib\\site-packages (from requests<3,>=2->langchain_community) (1.26.4)\n",
      "Requirement already satisfied: charset-normalizer<4,>=2 in d:\\my laptop\\app\\anaconda\\lib\\site-packages (from requests<3,>=2->langchain_community) (3.3.2)\n",
      "Requirement already satisfied: certifi>=2017.4.17 in d:\\my laptop\\app\\anaconda\\lib\\site-packages (from requests<3,>=2->langchain_community) (2020.12.5)\n",
      "Requirement already satisfied: greenlet!=0.4.17 in d:\\my laptop\\app\\anaconda\\lib\\site-packages (from SQLAlchemy<3,>=1.4->langchain_community) (1.0.0)\n",
      "Requirement already satisfied: mypy-extensions>=0.3.0 in d:\\my laptop\\app\\anaconda\\lib\\site-packages (from typing-inspect<1,>=0.4.0->dataclasses-json<0.7,>=0.5.7->langchain_community) (0.4.3)\n",
      "Requirement already satisfied: langchain_openai in d:\\my laptop\\app\\anaconda\\lib\\site-packages (0.0.8)\n",
      "Requirement already satisfied: openai<2.0.0,>=1.10.0 in d:\\my laptop\\app\\anaconda\\lib\\site-packages (from langchain_openai) (1.13.3)\n",
      "Requirement already satisfied: tiktoken<1,>=0.5.2 in d:\\my laptop\\app\\anaconda\\lib\\site-packages (from langchain_openai) (0.6.0)\n",
      "Requirement already satisfied: langchain-core<0.2.0,>=0.1.27 in d:\\my laptop\\app\\anaconda\\lib\\site-packages (from langchain_openai) (0.1.29)\n",
      "Requirement already satisfied: PyYAML>=5.3 in d:\\my laptop\\app\\anaconda\\lib\\site-packages (from langchain-core<0.2.0,>=0.1.27->langchain_openai) (5.4.1)\n",
      "Requirement already satisfied: langsmith<0.2.0,>=0.1.0 in d:\\my laptop\\app\\anaconda\\lib\\site-packages (from langchain-core<0.2.0,>=0.1.27->langchain_openai) (0.1.21)\n",
      "Requirement already satisfied: tenacity<9.0.0,>=8.1.0 in d:\\my laptop\\app\\anaconda\\lib\\site-packages (from langchain-core<0.2.0,>=0.1.27->langchain_openai) (8.2.3)\n",
      "Requirement already satisfied: anyio<5,>=3 in d:\\my laptop\\app\\anaconda\\lib\\site-packages (from langchain-core<0.2.0,>=0.1.27->langchain_openai) (3.7.1)\n",
      "Requirement already satisfied: pydantic<3,>=1 in d:\\my laptop\\app\\anaconda\\lib\\site-packages (from langchain-core<0.2.0,>=0.1.27->langchain_openai) (2.6.3)\n",
      "Requirement already satisfied: requests<3,>=2 in d:\\my laptop\\app\\anaconda\\lib\\site-packages (from langchain-core<0.2.0,>=0.1.27->langchain_openai) (2.31.0)\n",
      "Requirement already satisfied: packaging<24.0,>=23.2 in d:\\my laptop\\app\\anaconda\\lib\\site-packages (from langchain-core<0.2.0,>=0.1.27->langchain_openai) (23.2)\n",
      "Requirement already satisfied: jsonpatch<2.0,>=1.33 in d:\\my laptop\\app\\anaconda\\lib\\site-packages (from langchain-core<0.2.0,>=0.1.27->langchain_openai) (1.33)\n",
      "Requirement already satisfied: sniffio>=1.1 in d:\\my laptop\\app\\anaconda\\lib\\site-packages (from anyio<5,>=3->langchain-core<0.2.0,>=0.1.27->langchain_openai) (1.2.0)\n",
      "Requirement already satisfied: idna>=2.8 in d:\\my laptop\\app\\anaconda\\lib\\site-packages (from anyio<5,>=3->langchain-core<0.2.0,>=0.1.27->langchain_openai) (2.10)\n",
      "Requirement already satisfied: exceptiongroup in d:\\my laptop\\app\\anaconda\\lib\\site-packages (from anyio<5,>=3->langchain-core<0.2.0,>=0.1.27->langchain_openai) (1.2.0)\n",
      "Requirement already satisfied: jsonpointer>=1.9 in d:\\my laptop\\app\\anaconda\\lib\\site-packages (from jsonpatch<2.0,>=1.33->langchain-core<0.2.0,>=0.1.27->langchain_openai) (2.4)\n",
      "Requirement already satisfied: orjson<4.0.0,>=3.9.14 in d:\\my laptop\\app\\anaconda\\lib\\site-packages (from langsmith<0.2.0,>=0.1.0->langchain-core<0.2.0,>=0.1.27->langchain_openai) (3.9.15)\n",
      "Requirement already satisfied: tqdm>4 in d:\\my laptop\\app\\anaconda\\lib\\site-packages (from openai<2.0.0,>=1.10.0->langchain_openai) (4.59.0)\n",
      "Requirement already satisfied: distro<2,>=1.7.0 in d:\\my laptop\\app\\anaconda\\lib\\site-packages (from openai<2.0.0,>=1.10.0->langchain_openai) (1.9.0)\n",
      "Requirement already satisfied: httpx<1,>=0.23.0 in d:\\my laptop\\app\\anaconda\\lib\\site-packages (from openai<2.0.0,>=1.10.0->langchain_openai) (0.27.0)\n",
      "Requirement already satisfied: typing-extensions<5,>=4.7 in d:\\my laptop\\app\\anaconda\\lib\\site-packages (from openai<2.0.0,>=1.10.0->langchain_openai) (4.10.0)\n",
      "Requirement already satisfied: certifi in d:\\my laptop\\app\\anaconda\\lib\\site-packages (from httpx<1,>=0.23.0->openai<2.0.0,>=1.10.0->langchain_openai) (2020.12.5)\n",
      "Requirement already satisfied: httpcore==1.* in d:\\my laptop\\app\\anaconda\\lib\\site-packages (from httpx<1,>=0.23.0->openai<2.0.0,>=1.10.0->langchain_openai) (1.0.4)\n",
      "Requirement already satisfied: h11<0.15,>=0.13 in d:\\my laptop\\app\\anaconda\\lib\\site-packages (from httpcore==1.*->httpx<1,>=0.23.0->openai<2.0.0,>=1.10.0->langchain_openai) (0.14.0)\n",
      "Requirement already satisfied: annotated-types>=0.4.0 in d:\\my laptop\\app\\anaconda\\lib\\site-packages (from pydantic<3,>=1->langchain-core<0.2.0,>=0.1.27->langchain_openai) (0.6.0)\n",
      "Requirement already satisfied: pydantic-core==2.16.3 in d:\\my laptop\\app\\anaconda\\lib\\site-packages (from pydantic<3,>=1->langchain-core<0.2.0,>=0.1.27->langchain_openai) (2.16.3)\n",
      "Requirement already satisfied: urllib3<3,>=1.21.1 in d:\\my laptop\\app\\anaconda\\lib\\site-packages (from requests<3,>=2->langchain-core<0.2.0,>=0.1.27->langchain_openai) (1.26.4)\n",
      "Requirement already satisfied: charset-normalizer<4,>=2 in d:\\my laptop\\app\\anaconda\\lib\\site-packages (from requests<3,>=2->langchain-core<0.2.0,>=0.1.27->langchain_openai) (3.3.2)\n",
      "Requirement already satisfied: regex>=2022.1.18 in d:\\my laptop\\app\\anaconda\\lib\\site-packages (from tiktoken<1,>=0.5.2->langchain_openai) (2023.12.25)\n",
      "Requirement already satisfied: faiss-cpu in d:\\my laptop\\app\\anaconda\\lib\\site-packages (1.8.0)\n",
      "Requirement already satisfied: numpy in d:\\my laptop\\app\\anaconda\\lib\\site-packages (from faiss-cpu) (1.20.1)\n",
      "Requirement already satisfied: pypdf in d:\\my laptop\\app\\anaconda\\lib\\site-packages (4.1.0)\n",
      "Requirement already satisfied: typing_extensions>=3.7.4.3 in d:\\my laptop\\app\\anaconda\\lib\\site-packages (from pypdf) (4.10.0)\n"
     ]
    }
   ],
   "source": [
    "!pip install -U langchain\n",
    "!pip install -U langchain_community\n",
    "!pip install -U langchain_openai\n",
    "!pip install faiss-cpu\n",
    "!pip install pypdf\n"
   ]
  },
  {
   "cell_type": "code",
   "execution_count": 62,
   "id": "03065c04",
   "metadata": {},
   "outputs": [],
   "source": [
    "from langchain_community.document_loaders.pdf import (\n",
    "    AmazonTextractPDFLoader,\n",
    "    BasePDFLoader,\n",
    "    DocumentIntelligenceLoader,\n",
    "    MathpixPDFLoader,\n",
    "    OnlinePDFLoader,\n",
    "    PDFMinerLoader,\n",
    "    PDFMinerPDFasHTMLLoader,\n",
    "    PDFPlumberLoader,\n",
    "    PyMuPDFLoader,\n",
    "    PyPDFDirectoryLoader,\n",
    "    PyPDFium2Loader,\n",
    "    PyPDFLoader,\n",
    "    UnstructuredPDFLoader,\n",
    ")"
   ]
  },
  {
   "cell_type": "code",
   "execution_count": 63,
   "id": "5cd13283",
   "metadata": {},
   "outputs": [],
   "source": [
    "from langchain.text_splitter import CharacterTextSplitter\n",
    "from langchain_community.vectorstores import FAISS\n",
    "from langchain_openai.embeddings import OpenAIEmbeddings\n"
   ]
  },
  {
   "cell_type": "code",
   "execution_count": 64,
   "id": "504ac21b",
   "metadata": {},
   "outputs": [],
   "source": [
    "#Fetch Data\n",
    "pdfloader = PyPDFLoader(\"C:/Users/User/Downloads/Cricket.pdf\")\n",
    "pdfpages = pdfloader.load_and_split()\n"
   ]
  },
  {
   "cell_type": "code",
   "execution_count": 65,
   "id": "4c08d793",
   "metadata": {},
   "outputs": [],
   "source": [
    "#load the document using LangChain's built in extractors, formatters, loaders, enbeddings, and LEMS\n",
    "mydocuments = pdfloader.load() \n",
    "text_splitter = CharacterTextSplitter(chunk_size=1000, chunk_overlap=0)\n",
    "docs = text_splitter.split_documents(mydocuments)\n"
   ]
  },
  {
   "cell_type": "code",
   "execution_count": 66,
   "id": "69c9efe5",
   "metadata": {},
   "outputs": [],
   "source": [
    "#import Api\n",
    "import os\n",
    "os.environ[\"OPENAI_API_KEY\"] = (\"sk-\")"
   ]
  },
  {
   "cell_type": "code",
   "execution_count": 67,
   "id": "eafd83b0",
   "metadata": {},
   "outputs": [],
   "source": [
    "#Using OpenAI default embedding model\n",
    "embeddings = OpenAIEmbeddings()\n",
    "\n"
   ]
  },
  {
   "cell_type": "code",
   "execution_count": 68,
   "id": "f458822f",
   "metadata": {},
   "outputs": [
    {
     "ename": "AuthenticationError",
     "evalue": "Error code: 401 - {'error': {'message': 'Incorrect API key provided: sk-. You can find your API key at https://platform.openai.com/account/api-keys.', 'type': 'invalid_request_error', 'param': None, 'code': 'invalid_api_key'}}",
     "output_type": "error",
     "traceback": [
      "\u001b[1;31m---------------------------------------------------------------------------\u001b[0m",
      "\u001b[1;31mAuthenticationError\u001b[0m                       Traceback (most recent call last)",
      "\u001b[1;32m<ipython-input-68-e573823da69d>\u001b[0m in \u001b[0;36m<module>\u001b[1;34m\u001b[0m\n\u001b[0;32m      1\u001b[0m \u001b[1;31m# Using LangChain API functions to interact with FAISS\u001b[0m\u001b[1;33m\u001b[0m\u001b[1;33m\u001b[0m\u001b[1;33m\u001b[0m\u001b[0m\n\u001b[1;32m----> 2\u001b[1;33m \u001b[0mdb\u001b[0m \u001b[1;33m=\u001b[0m \u001b[0mFAISS\u001b[0m\u001b[1;33m.\u001b[0m\u001b[0mfrom_documents\u001b[0m\u001b[1;33m(\u001b[0m\u001b[0mdocs\u001b[0m\u001b[1;33m,\u001b[0m \u001b[0membeddings\u001b[0m\u001b[1;33m)\u001b[0m\u001b[1;33m\u001b[0m\u001b[1;33m\u001b[0m\u001b[0m\n\u001b[0m",
      "\u001b[1;32mD:\\My Laptop\\app\\Anaconda\\lib\\site-packages\\langchain_core\\vectorstores.py\u001b[0m in \u001b[0;36mfrom_documents\u001b[1;34m(cls, documents, embedding, **kwargs)\u001b[0m\n\u001b[0;32m    526\u001b[0m         \u001b[0mtexts\u001b[0m \u001b[1;33m=\u001b[0m \u001b[1;33m[\u001b[0m\u001b[0md\u001b[0m\u001b[1;33m.\u001b[0m\u001b[0mpage_content\u001b[0m \u001b[1;32mfor\u001b[0m \u001b[0md\u001b[0m \u001b[1;32min\u001b[0m \u001b[0mdocuments\u001b[0m\u001b[1;33m]\u001b[0m\u001b[1;33m\u001b[0m\u001b[1;33m\u001b[0m\u001b[0m\n\u001b[0;32m    527\u001b[0m         \u001b[0mmetadatas\u001b[0m \u001b[1;33m=\u001b[0m \u001b[1;33m[\u001b[0m\u001b[0md\u001b[0m\u001b[1;33m.\u001b[0m\u001b[0mmetadata\u001b[0m \u001b[1;32mfor\u001b[0m \u001b[0md\u001b[0m \u001b[1;32min\u001b[0m \u001b[0mdocuments\u001b[0m\u001b[1;33m]\u001b[0m\u001b[1;33m\u001b[0m\u001b[1;33m\u001b[0m\u001b[0m\n\u001b[1;32m--> 528\u001b[1;33m         \u001b[1;32mreturn\u001b[0m \u001b[0mcls\u001b[0m\u001b[1;33m.\u001b[0m\u001b[0mfrom_texts\u001b[0m\u001b[1;33m(\u001b[0m\u001b[0mtexts\u001b[0m\u001b[1;33m,\u001b[0m \u001b[0membedding\u001b[0m\u001b[1;33m,\u001b[0m \u001b[0mmetadatas\u001b[0m\u001b[1;33m=\u001b[0m\u001b[0mmetadatas\u001b[0m\u001b[1;33m,\u001b[0m \u001b[1;33m**\u001b[0m\u001b[0mkwargs\u001b[0m\u001b[1;33m)\u001b[0m\u001b[1;33m\u001b[0m\u001b[1;33m\u001b[0m\u001b[0m\n\u001b[0m\u001b[0;32m    529\u001b[0m \u001b[1;33m\u001b[0m\u001b[0m\n\u001b[0;32m    530\u001b[0m     \u001b[1;33m@\u001b[0m\u001b[0mclassmethod\u001b[0m\u001b[1;33m\u001b[0m\u001b[1;33m\u001b[0m\u001b[0m\n",
      "\u001b[1;32mD:\\My Laptop\\app\\Anaconda\\lib\\site-packages\\langchain_community\\vectorstores\\faiss.py\u001b[0m in \u001b[0;36mfrom_texts\u001b[1;34m(cls, texts, embedding, metadatas, ids, **kwargs)\u001b[0m\n\u001b[0;32m    963\u001b[0m                 \u001b[0mfaiss\u001b[0m \u001b[1;33m=\u001b[0m \u001b[0mFAISS\u001b[0m\u001b[1;33m.\u001b[0m\u001b[0mfrom_texts\u001b[0m\u001b[1;33m(\u001b[0m\u001b[0mtexts\u001b[0m\u001b[1;33m,\u001b[0m \u001b[0membeddings\u001b[0m\u001b[1;33m)\u001b[0m\u001b[1;33m\u001b[0m\u001b[1;33m\u001b[0m\u001b[0m\n\u001b[0;32m    964\u001b[0m         \"\"\"\n\u001b[1;32m--> 965\u001b[1;33m         \u001b[0membeddings\u001b[0m \u001b[1;33m=\u001b[0m \u001b[0membedding\u001b[0m\u001b[1;33m.\u001b[0m\u001b[0membed_documents\u001b[0m\u001b[1;33m(\u001b[0m\u001b[0mtexts\u001b[0m\u001b[1;33m)\u001b[0m\u001b[1;33m\u001b[0m\u001b[1;33m\u001b[0m\u001b[0m\n\u001b[0m\u001b[0;32m    966\u001b[0m         return cls.__from(\n\u001b[0;32m    967\u001b[0m             \u001b[0mtexts\u001b[0m\u001b[1;33m,\u001b[0m\u001b[1;33m\u001b[0m\u001b[1;33m\u001b[0m\u001b[0m\n",
      "\u001b[1;32mD:\\My Laptop\\app\\Anaconda\\lib\\site-packages\\langchain_openai\\embeddings\\base.py\u001b[0m in \u001b[0;36membed_documents\u001b[1;34m(self, texts, chunk_size)\u001b[0m\n\u001b[0;32m    506\u001b[0m         \u001b[1;31m#       than the maximum context and use length-safe embedding function.\u001b[0m\u001b[1;33m\u001b[0m\u001b[1;33m\u001b[0m\u001b[1;33m\u001b[0m\u001b[0m\n\u001b[0;32m    507\u001b[0m         \u001b[0mengine\u001b[0m \u001b[1;33m=\u001b[0m \u001b[0mcast\u001b[0m\u001b[1;33m(\u001b[0m\u001b[0mstr\u001b[0m\u001b[1;33m,\u001b[0m \u001b[0mself\u001b[0m\u001b[1;33m.\u001b[0m\u001b[0mdeployment\u001b[0m\u001b[1;33m)\u001b[0m\u001b[1;33m\u001b[0m\u001b[1;33m\u001b[0m\u001b[0m\n\u001b[1;32m--> 508\u001b[1;33m         \u001b[1;32mreturn\u001b[0m \u001b[0mself\u001b[0m\u001b[1;33m.\u001b[0m\u001b[0m_get_len_safe_embeddings\u001b[0m\u001b[1;33m(\u001b[0m\u001b[0mtexts\u001b[0m\u001b[1;33m,\u001b[0m \u001b[0mengine\u001b[0m\u001b[1;33m=\u001b[0m\u001b[0mengine\u001b[0m\u001b[1;33m)\u001b[0m\u001b[1;33m\u001b[0m\u001b[1;33m\u001b[0m\u001b[0m\n\u001b[0m\u001b[0;32m    509\u001b[0m \u001b[1;33m\u001b[0m\u001b[0m\n\u001b[0;32m    510\u001b[0m     async def aembed_documents(\n",
      "\u001b[1;32mD:\\My Laptop\\app\\Anaconda\\lib\\site-packages\\langchain_openai\\embeddings\\base.py\u001b[0m in \u001b[0;36m_get_len_safe_embeddings\u001b[1;34m(self, texts, engine, chunk_size)\u001b[0m\n\u001b[0;32m    322\u001b[0m         \u001b[0mbatched_embeddings\u001b[0m\u001b[1;33m:\u001b[0m \u001b[0mList\u001b[0m\u001b[1;33m[\u001b[0m\u001b[0mList\u001b[0m\u001b[1;33m[\u001b[0m\u001b[0mfloat\u001b[0m\u001b[1;33m]\u001b[0m\u001b[1;33m]\u001b[0m \u001b[1;33m=\u001b[0m \u001b[1;33m[\u001b[0m\u001b[1;33m]\u001b[0m\u001b[1;33m\u001b[0m\u001b[1;33m\u001b[0m\u001b[0m\n\u001b[0;32m    323\u001b[0m         \u001b[1;32mfor\u001b[0m \u001b[0mi\u001b[0m \u001b[1;32min\u001b[0m \u001b[0m_iter\u001b[0m\u001b[1;33m:\u001b[0m\u001b[1;33m\u001b[0m\u001b[1;33m\u001b[0m\u001b[0m\n\u001b[1;32m--> 324\u001b[1;33m             response = self.client.create(\n\u001b[0m\u001b[0;32m    325\u001b[0m                 \u001b[0minput\u001b[0m\u001b[1;33m=\u001b[0m\u001b[0mtokens\u001b[0m\u001b[1;33m[\u001b[0m\u001b[0mi\u001b[0m \u001b[1;33m:\u001b[0m \u001b[0mi\u001b[0m \u001b[1;33m+\u001b[0m \u001b[0m_chunk_size\u001b[0m\u001b[1;33m]\u001b[0m\u001b[1;33m,\u001b[0m \u001b[1;33m**\u001b[0m\u001b[0mself\u001b[0m\u001b[1;33m.\u001b[0m\u001b[0m_invocation_params\u001b[0m\u001b[1;33m\u001b[0m\u001b[1;33m\u001b[0m\u001b[0m\n\u001b[0;32m    326\u001b[0m             )\n",
      "\u001b[1;32mD:\\My Laptop\\app\\Anaconda\\lib\\site-packages\\openai\\resources\\embeddings.py\u001b[0m in \u001b[0;36mcreate\u001b[1;34m(self, input, model, dimensions, encoding_format, user, extra_headers, extra_query, extra_body, timeout)\u001b[0m\n\u001b[0;32m    111\u001b[0m             \u001b[1;32mreturn\u001b[0m \u001b[0mobj\u001b[0m\u001b[1;33m\u001b[0m\u001b[1;33m\u001b[0m\u001b[0m\n\u001b[0;32m    112\u001b[0m \u001b[1;33m\u001b[0m\u001b[0m\n\u001b[1;32m--> 113\u001b[1;33m         return self._post(\n\u001b[0m\u001b[0;32m    114\u001b[0m             \u001b[1;34m\"/embeddings\"\u001b[0m\u001b[1;33m,\u001b[0m\u001b[1;33m\u001b[0m\u001b[1;33m\u001b[0m\u001b[0m\n\u001b[0;32m    115\u001b[0m             \u001b[0mbody\u001b[0m\u001b[1;33m=\u001b[0m\u001b[0mmaybe_transform\u001b[0m\u001b[1;33m(\u001b[0m\u001b[0mparams\u001b[0m\u001b[1;33m,\u001b[0m \u001b[0membedding_create_params\u001b[0m\u001b[1;33m.\u001b[0m\u001b[0mEmbeddingCreateParams\u001b[0m\u001b[1;33m)\u001b[0m\u001b[1;33m,\u001b[0m\u001b[1;33m\u001b[0m\u001b[1;33m\u001b[0m\u001b[0m\n",
      "\u001b[1;32mD:\\My Laptop\\app\\Anaconda\\lib\\site-packages\\openai\\_base_client.py\u001b[0m in \u001b[0;36mpost\u001b[1;34m(self, path, cast_to, body, options, files, stream, stream_cls)\u001b[0m\n\u001b[0;32m   1198\u001b[0m             \u001b[0mmethod\u001b[0m\u001b[1;33m=\u001b[0m\u001b[1;34m\"post\"\u001b[0m\u001b[1;33m,\u001b[0m \u001b[0murl\u001b[0m\u001b[1;33m=\u001b[0m\u001b[0mpath\u001b[0m\u001b[1;33m,\u001b[0m \u001b[0mjson_data\u001b[0m\u001b[1;33m=\u001b[0m\u001b[0mbody\u001b[0m\u001b[1;33m,\u001b[0m \u001b[0mfiles\u001b[0m\u001b[1;33m=\u001b[0m\u001b[0mto_httpx_files\u001b[0m\u001b[1;33m(\u001b[0m\u001b[0mfiles\u001b[0m\u001b[1;33m)\u001b[0m\u001b[1;33m,\u001b[0m \u001b[1;33m**\u001b[0m\u001b[0moptions\u001b[0m\u001b[1;33m\u001b[0m\u001b[1;33m\u001b[0m\u001b[0m\n\u001b[0;32m   1199\u001b[0m         )\n\u001b[1;32m-> 1200\u001b[1;33m         \u001b[1;32mreturn\u001b[0m \u001b[0mcast\u001b[0m\u001b[1;33m(\u001b[0m\u001b[0mResponseT\u001b[0m\u001b[1;33m,\u001b[0m \u001b[0mself\u001b[0m\u001b[1;33m.\u001b[0m\u001b[0mrequest\u001b[0m\u001b[1;33m(\u001b[0m\u001b[0mcast_to\u001b[0m\u001b[1;33m,\u001b[0m \u001b[0mopts\u001b[0m\u001b[1;33m,\u001b[0m \u001b[0mstream\u001b[0m\u001b[1;33m=\u001b[0m\u001b[0mstream\u001b[0m\u001b[1;33m,\u001b[0m \u001b[0mstream_cls\u001b[0m\u001b[1;33m=\u001b[0m\u001b[0mstream_cls\u001b[0m\u001b[1;33m)\u001b[0m\u001b[1;33m)\u001b[0m\u001b[1;33m\u001b[0m\u001b[1;33m\u001b[0m\u001b[0m\n\u001b[0m\u001b[0;32m   1201\u001b[0m \u001b[1;33m\u001b[0m\u001b[0m\n\u001b[0;32m   1202\u001b[0m     def patch(\n",
      "\u001b[1;32mD:\\My Laptop\\app\\Anaconda\\lib\\site-packages\\openai\\_base_client.py\u001b[0m in \u001b[0;36mrequest\u001b[1;34m(self, cast_to, options, remaining_retries, stream, stream_cls)\u001b[0m\n\u001b[0;32m    887\u001b[0m         \u001b[0mstream_cls\u001b[0m\u001b[1;33m:\u001b[0m \u001b[0mtype\u001b[0m\u001b[1;33m[\u001b[0m\u001b[0m_StreamT\u001b[0m\u001b[1;33m]\u001b[0m \u001b[1;33m|\u001b[0m \u001b[1;32mNone\u001b[0m \u001b[1;33m=\u001b[0m \u001b[1;32mNone\u001b[0m\u001b[1;33m,\u001b[0m\u001b[1;33m\u001b[0m\u001b[1;33m\u001b[0m\u001b[0m\n\u001b[0;32m    888\u001b[0m     ) -> ResponseT | _StreamT:\n\u001b[1;32m--> 889\u001b[1;33m         return self._request(\n\u001b[0m\u001b[0;32m    890\u001b[0m             \u001b[0mcast_to\u001b[0m\u001b[1;33m=\u001b[0m\u001b[0mcast_to\u001b[0m\u001b[1;33m,\u001b[0m\u001b[1;33m\u001b[0m\u001b[1;33m\u001b[0m\u001b[0m\n\u001b[0;32m    891\u001b[0m             \u001b[0moptions\u001b[0m\u001b[1;33m=\u001b[0m\u001b[0moptions\u001b[0m\u001b[1;33m,\u001b[0m\u001b[1;33m\u001b[0m\u001b[1;33m\u001b[0m\u001b[0m\n",
      "\u001b[1;32mD:\\My Laptop\\app\\Anaconda\\lib\\site-packages\\openai\\_base_client.py\u001b[0m in \u001b[0;36m_request\u001b[1;34m(self, cast_to, options, remaining_retries, stream, stream_cls)\u001b[0m\n\u001b[0;32m    978\u001b[0m \u001b[1;33m\u001b[0m\u001b[0m\n\u001b[0;32m    979\u001b[0m             \u001b[0mlog\u001b[0m\u001b[1;33m.\u001b[0m\u001b[0mdebug\u001b[0m\u001b[1;33m(\u001b[0m\u001b[1;34m\"Re-raising status error\"\u001b[0m\u001b[1;33m)\u001b[0m\u001b[1;33m\u001b[0m\u001b[1;33m\u001b[0m\u001b[0m\n\u001b[1;32m--> 980\u001b[1;33m             \u001b[1;32mraise\u001b[0m \u001b[0mself\u001b[0m\u001b[1;33m.\u001b[0m\u001b[0m_make_status_error_from_response\u001b[0m\u001b[1;33m(\u001b[0m\u001b[0merr\u001b[0m\u001b[1;33m.\u001b[0m\u001b[0mresponse\u001b[0m\u001b[1;33m)\u001b[0m \u001b[1;32mfrom\u001b[0m \u001b[1;32mNone\u001b[0m\u001b[1;33m\u001b[0m\u001b[1;33m\u001b[0m\u001b[0m\n\u001b[0m\u001b[0;32m    981\u001b[0m \u001b[1;33m\u001b[0m\u001b[0m\n\u001b[0;32m    982\u001b[0m         return self._process_response(\n",
      "\u001b[1;31mAuthenticationError\u001b[0m: Error code: 401 - {'error': {'message': 'Incorrect API key provided: sk-. You can find your API key at https://platform.openai.com/account/api-keys.', 'type': 'invalid_request_error', 'param': None, 'code': 'invalid_api_key'}}"
     ]
    }
   ],
   "source": [
    "# Using LangChain API functions to interact with FAISS\n",
    "db = FAISS.from_documents(docs, embeddings)"
   ]
  },
  {
   "cell_type": "code",
   "execution_count": 28,
   "id": "2948afa0",
   "metadata": {},
   "outputs": [
    {
     "ename": "NameError",
     "evalue": "name 'db' is not defined",
     "output_type": "error",
     "traceback": [
      "\u001b[1;31m---------------------------------------------------------------------------\u001b[0m",
      "\u001b[1;31mNameError\u001b[0m                                 Traceback (most recent call last)",
      "\u001b[1;32m<ipython-input-28-882dbe744a6c>\u001b[0m in \u001b[0;36m<module>\u001b[1;34m\u001b[0m\n\u001b[1;32m----> 1\u001b[1;33m \u001b[0mdb\u001b[0m\u001b[1;33m\u001b[0m\u001b[1;33m\u001b[0m\u001b[0m\n\u001b[0m",
      "\u001b[1;31mNameError\u001b[0m: name 'db' is not defined"
     ]
    }
   ],
   "source": [
    "db"
   ]
  },
  {
   "cell_type": "code",
   "execution_count": 37,
   "id": "20d7d952",
   "metadata": {},
   "outputs": [
    {
     "ename": "SyntaxError",
     "evalue": "invalid syntax (<ipython-input-37-49b4aa32bd57>, line 3)",
     "output_type": "error",
     "traceback": [
      "\u001b[1;36m  File \u001b[1;32m\"<ipython-input-37-49b4aa32bd57>\"\u001b[1;36m, line \u001b[1;32m3\u001b[0m\n\u001b[1;33m    retriever db.as_retriever()\u001b[0m\n\u001b[1;37m              ^\u001b[0m\n\u001b[1;31mSyntaxError\u001b[0m\u001b[1;31m:\u001b[0m invalid syntax\n"
     ]
    }
   ],
   "source": [
    "#Using Langchain retreiver\n",
    "\n",
    "retriever db.as_retriever()\n",
    "from langchain.agents.agent_toolkits import create_retriever_tool\n",
    "tool = Create_retriever_tool(\n",
    "    \n",
    "retriever,\n",
    "\n",
    "\"Cricket\",\n",
    "\"Searches and returns documents regarding\"\n",
    ")\n",
    "\n",
    "tools = [tool]\n",
    "\n",
    "\n",
    "#wrapping LLM with conversationat agent\n",
    "from langchain.agents.agent toolkits import create_conversational retrieval_agent 15\n",
    "\n",
    "# Lang Chain given API to interact with chat models\n",
    "from langchain_openai.chat models import ChatOpenAI\n",
    "11m = ChatOpenAI(temperature = 0)\n",
    "agent executor create_conversational_retrieval_agent(lls, tools, verbose=True)\n"
   ]
  },
  {
   "cell_type": "code",
   "execution_count": 11,
   "id": "06bb73b1",
   "metadata": {},
   "outputs": [
    {
     "ename": "SyntaxError",
     "evalue": "EOL while scanning string literal (<ipython-input-11-4f5ff19bc615>, line 1)",
     "output_type": "error",
     "traceback": [
      "\u001b[1;36m  File \u001b[1;32m\"<ipython-input-11-4f5ff19bc615>\"\u001b[1;36m, line \u001b[1;32m1\u001b[0m\n\u001b[1;33m    Input \"How should you position your hands and adjust your head when catching a flat trajectory ball aimed at\u001b[0m\n\u001b[1;37m                                                                                                                ^\u001b[0m\n\u001b[1;31mSyntaxError\u001b[0m\u001b[1;31m:\u001b[0m EOL while scanning string literal\n"
     ]
    }
   ],
   "source": [
    "Input \"How should you position your hands and adjust your head when catching a flat trajectory ball aimed at\n",
    "head height\"\n",
    "result agent executor.invoke((\"input\": Input))"
   ]
  },
  {
   "cell_type": "code",
   "execution_count": null,
   "id": "35680d54",
   "metadata": {},
   "outputs": [],
   "source": []
  }
 ],
 "metadata": {
  "kernelspec": {
   "display_name": "Python 3",
   "language": "python",
   "name": "python3"
  },
  "language_info": {
   "codemirror_mode": {
    "name": "ipython",
    "version": 3
   },
   "file_extension": ".py",
   "mimetype": "text/x-python",
   "name": "python",
   "nbconvert_exporter": "python",
   "pygments_lexer": "ipython3",
   "version": "3.8.8"
  }
 },
 "nbformat": 4,
 "nbformat_minor": 5
}
